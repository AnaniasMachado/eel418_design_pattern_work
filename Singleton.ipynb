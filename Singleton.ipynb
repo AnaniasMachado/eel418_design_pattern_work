{
 "cells": [
  {
   "cell_type": "markdown",
   "metadata": {},
   "source": [
    "# Singleton"
   ]
  },
  {
   "cell_type": "markdown",
   "metadata": {},
   "source": [
    "**Objetivo:** Apresentar um código sem a aplicação do design pattern Singleton, e o mesmo código com o design pattern Singleton aplicado."
   ]
  },
  {
   "cell_type": "markdown",
   "metadata": {},
   "source": [
    "## Código sem a aplicação de Singleton"
   ]
  },
  {
   "cell_type": "code",
   "execution_count": 1,
   "metadata": {},
   "outputs": [
    {
     "name": "stdout",
     "output_type": "stream",
     "text": [
      "Dados do Banco de Dados 1\n",
      "Dados do Banco de Dados 2\n"
     ]
    }
   ],
   "source": [
    "class Database:\n",
    "    def __init__(self, data):\n",
    "        self.data = data\n",
    "\n",
    "    def get_data(self):\n",
    "        return self.data\n",
    "\n",
    "db1 = Database(\"Dados do Banco de Dados 1\")\n",
    "db2 = Database(\"Dados do Banco de Dados 2\")\n",
    "\n",
    "print(db1.get_data())\n",
    "print(db2.get_data())"
   ]
  },
  {
   "cell_type": "markdown",
   "metadata": {},
   "source": [
    "## Código com a aplicação de Singleton"
   ]
  },
  {
   "cell_type": "code",
   "execution_count": 2,
   "metadata": {},
   "outputs": [
    {
     "name": "stdout",
     "output_type": "stream",
     "text": [
      "Dados do Banco de Dados 1\n",
      "Dados do Banco de Dados 1\n"
     ]
    }
   ],
   "source": [
    "class Database:\n",
    "    _instance = None\n",
    "\n",
    "    def __new__(cls, data):\n",
    "        if not cls._instance:\n",
    "            cls._instance = super(Database, cls).__new__(cls)\n",
    "            cls._instance.data = data\n",
    "        return cls._instance\n",
    "\n",
    "    def get_data(self):\n",
    "        return self.data\n",
    "\n",
    "db1 = Database(\"Dados do Banco de Dados 1\")\n",
    "db2 = Database(\"Dados do Banco de Dados 2\")\n",
    "\n",
    "print(db1.get_data())\n",
    "print(db2.get_data())"
   ]
  }
 ],
 "metadata": {
  "kernelspec": {
   "display_name": "General_Work_Kernel",
   "language": "python",
   "name": "general_work_kernel"
  },
  "language_info": {
   "codemirror_mode": {
    "name": "ipython",
    "version": 3
   },
   "file_extension": ".py",
   "mimetype": "text/x-python",
   "name": "python",
   "nbconvert_exporter": "python",
   "pygments_lexer": "ipython3",
   "version": "3.11.9"
  }
 },
 "nbformat": 4,
 "nbformat_minor": 2
}
