{
 "cells": [
  {
   "cell_type": "markdown",
   "metadata": {},
   "source": [
    "# Chain of Responsability"
   ]
  },
  {
   "cell_type": "markdown",
   "metadata": {},
   "source": [
    "**Objetivo:** Apresentar um código sem a aplicação do design pattern Chain of Responsability, e o mesmo código com o design pattern Chain of Responsability aplicado."
   ]
  },
  {
   "cell_type": "markdown",
   "metadata": {},
   "source": [
    "## Código sem a aplicação de Chain of Responsability"
   ]
  },
  {
   "cell_type": "code",
   "execution_count": 1,
   "metadata": {},
   "outputs": [
    {
     "name": "stdout",
     "output_type": "stream",
     "text": [
      "4\n"
     ]
    },
    {
     "ename": "Exception",
     "evalue": "Error: Request could not be fulfilled.",
     "output_type": "error",
     "traceback": [
      "\u001b[0;31m---------------------------------------------------------------------------\u001b[0m",
      "\u001b[0;31mException\u001b[0m                                 Traceback (most recent call last)",
      "Cell \u001b[0;32mIn[1], line 22\u001b[0m\n\u001b[1;32m     19\u001b[0m     \u001b[38;5;28;01mif\u001b[39;00m result \u001b[38;5;241m!=\u001b[39m \u001b[38;5;28;01mFalse\u001b[39;00m:\n\u001b[1;32m     20\u001b[0m         \u001b[38;5;28;01mraise\u001b[39;00m \u001b[38;5;167;01mException\u001b[39;00m(\u001b[38;5;124m'\u001b[39m\u001b[38;5;124mError: Request could not be fulfilled.\u001b[39m\u001b[38;5;124m'\u001b[39m)\n\u001b[0;32m---> 22\u001b[0m \u001b[43mprocess_request\u001b[49m\u001b[43m(\u001b[49m\u001b[38;5;241;43m2\u001b[39;49m\u001b[43m)\u001b[49m\n",
      "Cell \u001b[0;32mIn[1], line 20\u001b[0m, in \u001b[0;36mprocess_request\u001b[0;34m(n)\u001b[0m\n\u001b[1;32m     17\u001b[0m result \u001b[38;5;241m=\u001b[39m n\n\u001b[1;32m     19\u001b[0m \u001b[38;5;28;01mif\u001b[39;00m result \u001b[38;5;241m!=\u001b[39m \u001b[38;5;28;01mFalse\u001b[39;00m:\n\u001b[0;32m---> 20\u001b[0m     \u001b[38;5;28;01mraise\u001b[39;00m \u001b[38;5;167;01mException\u001b[39;00m(\u001b[38;5;124m'\u001b[39m\u001b[38;5;124mError: Request could not be fulfilled.\u001b[39m\u001b[38;5;124m'\u001b[39m)\n",
      "\u001b[0;31mException\u001b[0m: Error: Request could not be fulfilled."
     ]
    }
   ],
   "source": [
    "def process_request(n):\n",
    "    result = False\n",
    "\n",
    "    if n % 2 == 0:\n",
    "        print(n**2)\n",
    "        result = False\n",
    "    result = n\n",
    "\n",
    "    if n % 3 == 0:\n",
    "        print(3 * n)\n",
    "        result = False\n",
    "    result = n\n",
    "\n",
    "    if n % 5 == 0:\n",
    "        print(5 ** n)\n",
    "        result = False\n",
    "    result = n\n",
    "    \n",
    "    if result != False:\n",
    "        raise Exception('Error: Request could not be fulfilled.')\n",
    "\n",
    "process_request(2)"
   ]
  },
  {
   "cell_type": "markdown",
   "metadata": {},
   "source": [
    "## Código com a aplicação de Chain of Responsability"
   ]
  },
  {
   "cell_type": "code",
   "execution_count": 2,
   "metadata": {},
   "outputs": [],
   "source": [
    "def process_request(n, chain):\n",
    "    result = False\n",
    "    i = 0\n",
    "    while (result != False and i < len(chain)):\n",
    "        result = chain[i](n)\n",
    "        i += 1\n",
    "    \n",
    "    if result != False:\n",
    "        raise Exception('Error: Request could not be fulfilled.')\n",
    "\n",
    "def function_1(n):\n",
    "    if n % 2 == 0:\n",
    "        print(n**2)\n",
    "        return False\n",
    "    return n\n",
    "\n",
    "def function_2(n):\n",
    "    if n % 3 == 0:\n",
    "        print(3 * n)\n",
    "        return False\n",
    "    return n\n",
    "\n",
    "def function_3(n):\n",
    "    if n % 5 == 0:\n",
    "        print(5 ** n)\n",
    "        return False\n",
    "    return n\n",
    "\n",
    "chain = [function_1, function_2, function_3]\n",
    "process_request(2, chain)"
   ]
  }
 ],
 "metadata": {
  "kernelspec": {
   "display_name": "General_Work_Kernel",
   "language": "python",
   "name": "general_work_kernel"
  },
  "language_info": {
   "codemirror_mode": {
    "name": "ipython",
    "version": 3
   },
   "file_extension": ".py",
   "mimetype": "text/x-python",
   "name": "python",
   "nbconvert_exporter": "python",
   "pygments_lexer": "ipython3",
   "version": "3.11.9"
  }
 },
 "nbformat": 4,
 "nbformat_minor": 2
}
