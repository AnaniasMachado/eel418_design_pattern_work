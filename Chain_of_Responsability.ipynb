{
 "cells": [
  {
   "cell_type": "markdown",
   "metadata": {},
   "source": [
    "# Chain of Responsability"
   ]
  },
  {
   "cell_type": "markdown",
   "metadata": {},
   "source": [
    "**Objetivo:** Apresentar um código sem a aplicação do design pattern Chain of Responsability, e o mesmo código com o design pattern Chain of Responsability aplicado."
   ]
  },
  {
   "cell_type": "markdown",
   "metadata": {},
   "source": [
    "## Código sem a aplicação de Chain of Responsability"
   ]
  },
  {
   "cell_type": "code",
   "execution_count": null,
   "metadata": {},
   "outputs": [],
   "source": [
    "def process_request(n):\n",
    "    result = False\n",
    "\n",
    "    if n % 2 == 0:\n",
    "        print(n**2)\n",
    "        result = False\n",
    "    result = n\n",
    "\n",
    "    if n % 3 == 0:\n",
    "        print(3 * n)\n",
    "        result = False\n",
    "    result = n\n",
    "\n",
    "    if n % 5 == 0:\n",
    "        print(5 ** n)\n",
    "        result = False\n",
    "    result = n\n",
    "    \n",
    "    if result != False:\n",
    "        raise Exception('Error: Request could not be fulfilled.')\n",
    "\n",
    "process_request(2)"
   ]
  },
  {
   "cell_type": "markdown",
   "metadata": {},
   "source": [
    "## Código com a aplicação de Chain of Responsability"
   ]
  },
  {
   "cell_type": "code",
   "execution_count": 14,
   "metadata": {},
   "outputs": [],
   "source": [
    "def process_request(n, chain):\n",
    "    result = False\n",
    "    i = 0\n",
    "    while (result != False and i < len(chain)):\n",
    "        result = chain[i](n)\n",
    "        i += 1\n",
    "    \n",
    "    if result != False:\n",
    "        raise Exception('Error: Request could not be fulfilled.')\n",
    "\n",
    "def function_1(n):\n",
    "    if n % 2 == 0:\n",
    "        print(n**2)\n",
    "        return False\n",
    "    return n\n",
    "\n",
    "def function_2(n):\n",
    "    if n % 3 == 0:\n",
    "        print(3 * n)\n",
    "        return False\n",
    "    return n\n",
    "\n",
    "def function_3(n):\n",
    "    if n % 5 == 0:\n",
    "        print(5 ** n)\n",
    "        return False\n",
    "    return n\n",
    "\n",
    "chain = [function_1, function_2, function_3]\n",
    "process_request(2, chain)"
   ]
  }
 ],
 "metadata": {
  "kernelspec": {
   "display_name": "General_Work_Kernel",
   "language": "python",
   "name": "general_work_kernel"
  },
  "language_info": {
   "codemirror_mode": {
    "name": "ipython",
    "version": 3
   },
   "file_extension": ".py",
   "mimetype": "text/x-python",
   "name": "python",
   "nbconvert_exporter": "python",
   "pygments_lexer": "ipython3",
   "version": "3.11.9"
  }
 },
 "nbformat": 4,
 "nbformat_minor": 2
}
