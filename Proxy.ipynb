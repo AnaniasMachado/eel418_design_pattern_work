{
 "cells": [
  {
   "cell_type": "markdown",
   "metadata": {},
   "source": [
    "# Proxy"
   ]
  },
  {
   "cell_type": "markdown",
   "metadata": {},
   "source": [
    "**Objetivo:** Apresentar um código sem a aplicação do design pattern Proxy, e o mesmo código com o design pattern Proxy aplicado."
   ]
  },
  {
   "cell_type": "markdown",
   "metadata": {},
   "source": [
    "## Código sem a aplicação de Proxy"
   ]
  },
  {
   "cell_type": "code",
   "execution_count": 5,
   "metadata": {},
   "outputs": [
    {
     "name": "stdout",
     "output_type": "stream",
     "text": [
      "Realizando a requisição\n"
     ]
    }
   ],
   "source": [
    "class Servidor:\n",
    "    def requisicao(self):\n",
    "        print(\"Realizando a requisição\")\n",
    "\n",
    "class Cliente:\n",
    "    def __init__(self, servidor):\n",
    "        self.servidor = servidor\n",
    "\n",
    "    def requisicao(self):\n",
    "        self.servidor.requisicao()\n",
    "\n",
    "servidor = Servidor()\n",
    "cliente = Cliente(servidor)\n",
    "cliente.requisicao()"
   ]
  },
  {
   "cell_type": "markdown",
   "metadata": {},
   "source": [
    "## Código com a aplicação de Proxy"
   ]
  },
  {
   "cell_type": "code",
   "execution_count": 4,
   "metadata": {},
   "outputs": [
    {
     "name": "stdout",
     "output_type": "stream",
     "text": [
      "Verificando permissões antes de fazer a requisição\n",
      "Realizando a requisição\n"
     ]
    }
   ],
   "source": [
    "class Servidor:\n",
    "    def requisicao(self):\n",
    "        print(\"Realizando a requisição\")\n",
    "\n",
    "class Proxy:\n",
    "    def __init__(self, servidor):\n",
    "        self.servidor = servidor\n",
    "\n",
    "    def requisicao(self):\n",
    "        print(\"Verificando permissões antes de fazer a requisição\")\n",
    "        self.servidor.requisicao()\n",
    "\n",
    "class Cliente:\n",
    "    def __init__(self, proxy):\n",
    "        self.proxy = proxy\n",
    "\n",
    "    def requisicao(self):\n",
    "        self.proxy.requisicao()\n",
    "\n",
    "servidor = Servidor()\n",
    "proxy = Proxy(servidor)\n",
    "cliente = Cliente(proxy)\n",
    "cliente.requisicao()"
   ]
  }
 ],
 "metadata": {
  "kernelspec": {
   "display_name": "General_Work_Kernel",
   "language": "python",
   "name": "general_work_kernel"
  },
  "language_info": {
   "codemirror_mode": {
    "name": "ipython",
    "version": 3
   },
   "file_extension": ".py",
   "mimetype": "text/x-python",
   "name": "python",
   "nbconvert_exporter": "python",
   "pygments_lexer": "ipython3",
   "version": "3.11.9"
  }
 },
 "nbformat": 4,
 "nbformat_minor": 2
}
