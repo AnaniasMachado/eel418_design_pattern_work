{
 "cells": [
  {
   "cell_type": "markdown",
   "metadata": {},
   "source": [
    "# Observer"
   ]
  },
  {
   "cell_type": "markdown",
   "metadata": {},
   "source": [
    "**Objetivo:** Apresentar um código sem a aplicação do design pattern Observer, e o mesmo código com o design pattern Observer aplicado."
   ]
  },
  {
   "cell_type": "markdown",
   "metadata": {},
   "source": [
    "## Código sem a aplicação de Observer"
   ]
  },
  {
   "cell_type": "code",
   "execution_count": 1,
   "metadata": {},
   "outputs": [
    {
     "name": "stdout",
     "output_type": "stream",
     "text": [
      "Nova temperatura: 25\n",
      "Temperatura atual: 25\n"
     ]
    }
   ],
   "source": [
    "class WeatherStation:\n",
    "    def __init__(self):\n",
    "        self.temperature = 0\n",
    "\n",
    "    def set_temperature(self, temperature):\n",
    "        self.temperature = temperature\n",
    "        print(f\"Nova temperatura: {self.temperature}\")\n",
    "\n",
    "class Display:\n",
    "    def __init__(self):\n",
    "        pass\n",
    "\n",
    "    def display_temperature(self, temperature):\n",
    "        print(f\"Temperatura atual: {temperature}\")\n",
    "\n",
    "weather_station = WeatherStation()\n",
    "display = Display()\n",
    "\n",
    "weather_station.set_temperature(25)\n",
    "display.display_temperature(weather_station.temperature)"
   ]
  },
  {
   "cell_type": "markdown",
   "metadata": {},
   "source": [
    "## Código com a aplicação de Observer"
   ]
  },
  {
   "cell_type": "code",
   "execution_count": 2,
   "metadata": {},
   "outputs": [
    {
     "name": "stdout",
     "output_type": "stream",
     "text": [
      "Nova temperatura: 25\n",
      "Temperatura atual: 25\n"
     ]
    }
   ],
   "source": [
    "class WeatherStation:\n",
    "    def __init__(self):\n",
    "        self.temperature = 0\n",
    "        self.observers = []\n",
    "\n",
    "    def set_temperature(self, temperature):\n",
    "        self.temperature = temperature\n",
    "        print(f\"Nova temperatura: {self.temperature}\")\n",
    "        self.notify_observers()\n",
    "\n",
    "    def add_observer(self, observer):\n",
    "        self.observers.append(observer)\n",
    "\n",
    "    def remove_observer(self, observer):\n",
    "        self.observers.remove(observer)\n",
    "\n",
    "    def notify_observers(self):\n",
    "        for observer in self.observers:\n",
    "            observer.update(self.temperature)\n",
    "\n",
    "class Display:\n",
    "    def __init__(self, weather_station):\n",
    "        self.weather_station = weather_station\n",
    "        self.temperature = 0\n",
    "        self.weather_station.add_observer(self)\n",
    "\n",
    "    def update(self, temperature):\n",
    "        self.temperature = temperature\n",
    "        self.display_temperature()\n",
    "\n",
    "    def display_temperature(self):\n",
    "        print(f\"Temperatura atual: {self.temperature}\")\n",
    "\n",
    "weather_station = WeatherStation()\n",
    "display = Display(weather_station)\n",
    "\n",
    "weather_station.set_temperature(25)"
   ]
  }
 ],
 "metadata": {
  "kernelspec": {
   "display_name": "General_Work_Kernel",
   "language": "python",
   "name": "general_work_kernel"
  },
  "language_info": {
   "codemirror_mode": {
    "name": "ipython",
    "version": 3
   },
   "file_extension": ".py",
   "mimetype": "text/x-python",
   "name": "python",
   "nbconvert_exporter": "python",
   "pygments_lexer": "ipython3",
   "version": "3.11.9"
  }
 },
 "nbformat": 4,
 "nbformat_minor": 2
}
